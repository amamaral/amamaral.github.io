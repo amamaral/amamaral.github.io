{
 "cells": [
  {
   "cell_type": "code",
   "execution_count": 1,
   "metadata": {},
   "outputs": [
    {
     "data": {
      "application/javascript": [
       "MathJax.Hub.Config({\n",
       "    TeX: { equationNumbers: { autoNumber: \"ams\" } }\n",
       "});\n"
      ],
      "text/plain": [
       "<IPython.core.display.Javascript object>"
      ]
     },
     "metadata": {},
     "output_type": "display_data"
    }
   ],
   "source": [
    "%%javascript\n",
    "MathJax.Hub.Config({\n",
    "    TeX: { equationNumbers: { autoNumber: \"ams\" } }\n",
    "});"
   ]
  },
  {
   "cell_type": "markdown",
   "metadata": {},
   "source": [
    "| Matrix type | Result |\n",
    "|:-----------:|:------:|\n",
    "| `matrix` | \\begin{matrix} a & b \\\\ c & d \\end{matrix} |\n",
    "| `pmatrix` | \\begin{pmatrix} a & b \\\\ c & d \\end{pmatrix} |\n",
    "| `bmatrix` | \\begin{bmatrix} a & b \\\\ c & d \\end{bmatrix} |\n",
    "| `Bmatrix` | \\begin{Bmatrix} a & b \\\\ c & d \\end{Bmatrix} |"
   ]
  },
  {
   "cell_type": "code",
   "execution_count": 26,
   "metadata": {},
   "outputs": [
    {
     "data": {
      "text/markdown": [
       "| Matrix type | Result |\n",
       "|:-----------:|:------:|\n",
       "| `matrix` | \\begin{matrix} a & b \\\\ c & d \\end{matrix} |\n",
       "| `pmatrix` | \\begin{pmatrix} a & b \\\\ c & d \\end{pmatrix} |\n",
       "| `bmatrix` | \\begin{bmatrix} a & b \\\\ c & d \\end{bmatrix} |\n",
       "| `Bmatrix` | \\begin{Bmatrix} a & b \\\\ c & d \\end{Bmatrix} |\n"
      ],
      "text/plain": [
       "<IPython.core.display.Markdown object>"
      ]
     },
     "metadata": {},
     "output_type": "display_data"
    }
   ],
   "source": [
    "out = \"| Matrix type | Result |\\n\"\n",
    "out+= \"|:-----------:|:------:|\\n\"\n",
    "\n",
    "for i in ['matrix', 'pmatrix', 'bmatrix', 'Bmatrix']:\n",
    "    mtrx_str = '''\\\\begin{%s} a & b \\\\\\\\ c & d \\\\end{%s}''' % (i, i)\n",
    "    out += \"| `%s` | %s |\\n\" % (i, mtrx_str)\n",
    "\n",
    "#from IPython import display\n",
    "display.display(display.Markdown(out))\n",
    "#print(out)"
   ]
  },
  {
   "cell_type": "markdown",
   "metadata": {},
   "source": [
    "\\begin{equation}\n",
    "    \\begin{pmatrix}\n",
    "    a_1 \\\\\n",
    "    a_2 \\\\\n",
    "    \\vdots \\\\\n",
    "    a_n\n",
    "    \\end{pmatrix}\n",
    "    = \n",
    "    \\begin{pmatrix}\n",
    "    c_{11} & c_{12} & \\dots & c_{1n} \\\\\n",
    "    c_{21} & c_{22} & \\dots & c_{1n} \\\\\n",
    "    \\vdots & \\ddots &       & \\vdots \\\\\n",
    "    c_{n1} & c_{n2} & \\dots & c_{nn} \\\\\n",
    "    \\end{pmatrix}\n",
    "    \\begin{pmatrix}\n",
    "    b_1 \\\\\n",
    "    b_2 \\\\\n",
    "    \\vdots \\\\\n",
    "    b_n\n",
    "    \\end{pmatrix}    \n",
    "\\end{equation}"
   ]
  },
  {
   "cell_type": "markdown",
   "metadata": {},
   "source": [
    "$$x = 2$$"
   ]
  },
  {
   "cell_type": "code",
   "execution_count": 27,
   "metadata": {},
   "outputs": [
    {
     "name": "stdout",
     "output_type": "stream",
     "text": [
      "| Matrix type | Result |\n",
      "|:-----------:|:------:|\n",
      "| `matrix` | \\begin{matrix} a & b \\\\ c & d \\end{matrix} |\n",
      "| `pmatrix` | \\begin{pmatrix} a & b \\\\ c & d \\end{pmatrix} |\n",
      "| `bmatrix` | \\begin{bmatrix} a & b \\\\ c & d \\end{bmatrix} |\n",
      "| `Bmatrix` | \\begin{Bmatrix} a & b \\\\ c & d \\end{Bmatrix} |\n",
      "\n"
     ]
    }
   ],
   "source": [
    "print(out)"
   ]
  },
  {
   "cell_type": "code",
   "execution_count": null,
   "metadata": {},
   "outputs": [],
   "source": []
  }
 ],
 "metadata": {
  "kernelspec": {
   "display_name": "Python 3",
   "language": "python",
   "name": "python3"
  },
  "language_info": {
   "codemirror_mode": {
    "name": "ipython",
    "version": 3
   },
   "file_extension": ".py",
   "mimetype": "text/x-python",
   "name": "python",
   "nbconvert_exporter": "python",
   "pygments_lexer": "ipython3",
   "version": "3.9.1"
  }
 },
 "nbformat": 4,
 "nbformat_minor": 4
}
