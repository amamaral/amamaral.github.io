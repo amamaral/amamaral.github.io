{
 "cells": [
  {
   "cell_type": "markdown",
   "metadata": {},
   "source": [
    "title: \"Digital signal filters with limited resources\"\n",
    "author: \"Anderson M. Amaral\"\n",
    "date: \"03/12/2017\"\n",
    "tags: \"Electronics\"; \"arduino\""
   ]
  },
  {
   "cell_type": "markdown",
   "metadata": {},
   "source": [
    "# Cardinal Frequency Transform\n",
    "\n",
    "## Introduction\n",
    "\n",
    "The frequency analysis of signals plays a relevant aspect in several areas of science and technology, being widely used in data analysis and signal filtering, for example. Given a periodically sampled signal, the frequency analysis is often performed using Fast Fourier Transforms (FFTs), given their well known properties and solid mathematical foundations. For example, FFTs preserve the signal energy and have a well defined inverse transform. A problem with FFT's is that they require the computation of sines and cosines, and numerical noise is added when floating point calculations are not performed throughout the process. This is an important limitation, since floating point operations are much slower than integer or fixed point operations. Its also worth noticing that periodically sampled analog signals are discretized in the sampling process, such that if a process similar to the FFT could be performed to determine the signal spectrum within the integer's domain would be interesting because of the possibility to shorten the data processing time and even reduce the overall system power consumption.\n",
    "\n",
    "In the present proposal its shown how to represent a periodically sampled signal in terms of another basis which contains the underlying signal frequency characteristics. Then, it will be shown that the proposed transformation can be made invertible, and later it will be discussed how this proposal can be implemented to perform signal filtering.\n",
    "\n",
    "## A complete basis for representing periodically sampled signals\n",
    "\n",
    "Consider a periodically sampled signal, $x_i$, where $i=1,...n$ represents each data sample. Suppose for a moment that the signal $X_n$ is composed of two samples ($n=2$). Then, the signal can be represented as \n",
    "\n",
    "$$\n",
    "X_2 = [x_1, x_2].\n",
    "$$\n",
    "\n",
    "The signal $X_2$ can thus be represented within a vector space of dimension 2. The same data could be written in a  complimentary representation as\n",
    "\n",
    "$$\n",
    "\\tilde{X}_2 = [x_1+x_2, x_1-x_2].\n",
    "$$\n",
    "\n",
    "The amount of information contained in $X_2$ and $\\tilde{X}_2$ are the same, given that there is a simple relation between both cases. Notice however that the elements of $\\tilde{X}_2$ contains a different set of information. Considering the notation where that the elements of $\\tilde{X}_2$ are $\\tilde{x}_i$, we have that $\\tilde{x}_1$ contains a number which is proportional to the average of $X_2$, while $\\tilde{x}_2$ contains information about the sample values variation. In terms of frequencies, $\\tilde{x}_1$ contains the $0$ frequency contributions, while $\\tilde{x}_2$ contains information about the largest available frequency within $X_2$.\n",
    "\n",
    "In a matricial notation, its possible to write the previous transformation as $\\tilde{X}_2=M_{2x2} X_2$, where\n",
    "\n",
    "$$\n",
    "M_{2x2} = \n",
    "\\left(\\begin{array}{cc}\n",
    "1 & 1\\\\\n",
    "1 & -1\n",
    "\\end{array}\\right)\n",
    "$$\n",
    "\n",
    "Is is possible to extend the previous analysis to larger $n$ values? The previous concepts can be extended to $n=4$ using a simple algorithm, as is detailed below. Consider now \n",
    "\n",
    "$$\n",
    "X_4 = [x_1, x_2, x_3, x_4].\n",
    "$$\n",
    "\n",
    "By performing two sequential partitions of $X_4$,  $P=[x_1+x_2, x_1-x_2]$ and $Q=[x_3+x_4, x_3-x_4]$, and looking for a transformation that still maintains the lowest and highest frequencies at the extremes of $\\tilde{X}_4$, \n",
    "\n",
    "$$\n",
    "\\tilde{X}_4 = [p_1 + q_1, p_2 + q_2, p_1 - q_1, p_2 - q_2].\\\\\n",
    "\\tilde{X}_4 = [x_1+x_2+x_3+x_4, x_1+x_2+x_3-x_4, x_1+x_2-x_3-x_4, x_1-x_2-x_3+x_4].\n",
    "$$\n",
    "\n",
    "In matrix notation, the previous vector can be written as $\\tilde{X}_4 = M_{4x4} X_4$, where\n",
    "$$\n",
    "M_{4x4}=\n",
    "\\left(\\begin{array}{cc}\n",
    "1_{2x2} &  1_{2x2}\\\\\n",
    "1_{2x2} & -1_{2x2}\n",
    "\\end{array}\\right)\n",
    "\\left(\\begin{array}{cc}\n",
    "M_{2x2} &  0\\\\\n",
    "0 & M_{2x2}\n",
    "\\end{array}\\right)\n",
    "$$\n",
    "\n",
    "With this example, an iterative process that produces the output at a given order can be visualized, as being composed of the terms in the previous order. This process can be carried over larger samples, with the only limitation that the dataset length must be a power of 2. Moreover, this process is memory efficient, given that the intermediate results can be calculated and stored at their original memory positions. Notice also that given that the output is associated with only signal shifts and sums, these operations can be performed exactly with integer numbers, and thus are adequate for DSP within low-powered embedded devices. Also notice that the matrices involved in this process are invertible, which indicates that the whole transformation is also invertible.\n",
    "\n",
    "Another relevant aspect is to determine the spectral content of these outputs. For simplicity, let's consider initially the spectral analysis for $X_4$. We will assume that the signal is band-limited and that the sampling satisfies Nyquist sampling criterion."
   ]
  },
  {
   "cell_type": "code",
   "execution_count": null,
   "metadata": {
    "collapsed": true
   },
   "outputs": [],
   "source": []
  }
 ],
 "metadata": {
  "kernelspec": {
   "display_name": "Python 3",
   "language": "python",
   "name": "python3"
  },
  "language_info": {
   "codemirror_mode": {
    "name": "ipython",
    "version": 3
   },
   "file_extension": ".py",
   "mimetype": "text/x-python",
   "name": "python",
   "nbconvert_exporter": "python",
   "pygments_lexer": "ipython3",
   "version": "3.6.1"
  }
 },
 "nbformat": 4,
 "nbformat_minor": 2
}
