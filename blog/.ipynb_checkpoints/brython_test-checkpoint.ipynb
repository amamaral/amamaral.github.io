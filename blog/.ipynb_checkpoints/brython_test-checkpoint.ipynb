{
 "cells": [
  {
   "cell_type": "code",
   "execution_count": 1,
   "metadata": {},
   "outputs": [
    {
     "name": "stdout",
     "output_type": "stream",
     "text": [
      "Requirement already satisfied: brython in e:\\winpython\\wpy64-3910\\python-3.9.1.amd64\\lib\\site-packages (3.9.1)\n",
      "Requirement already satisfied: brythonmagic in e:\\winpython\\wpy64-3910\\python-3.9.1.amd64\\lib\\site-packages (0.2.1)\n",
      "Note: you may need to restart the kernel to use updated packages.\n"
     ]
    }
   ],
   "source": [
    "%pip install brython brythonmagic"
   ]
  },
  {
   "cell_type": "code",
   "execution_count": 1,
   "metadata": {},
   "outputs": [],
   "source": [
    "%load_ext brythonmagic"
   ]
  },
  {
   "cell_type": "code",
   "execution_count": 2,
   "metadata": {},
   "outputs": [
    {
     "name": "stderr",
     "output_type": "stream",
     "text": [
      "E:\\WinPython\\WPy64-3910\\python-3.9.1.amd64\\lib\\site-packages\\ipykernel\\ipkernel.py:283: DeprecationWarning: `should_run_async` will not call `transform_cell` automatically in the future. Please pass the result to `transformed_cell` argument and any exception that happen during thetransform in `preprocessing_exc_tuple` in IPython 7.17 and above.\n",
      "  and should_run_async(code)\n"
     ]
    },
    {
     "data": {
      "application/javascript": [
       "\n",
       "    require(\n",
       "        [\n",
       "            \"http://brython.info/src/brython_dist.js\"\n",
       "        ], \n",
       "        function() {\n",
       "            console.log(\"Loaded js code from http://brython.info/src/brython_dist.js!\");\n",
       "        }\n",
       "    );    \n",
       "    "
      ],
      "text/plain": [
       "<IPython.core.display.Javascript object>"
      ]
     },
     "metadata": {},
     "output_type": "display_data"
    }
   ],
   "source": [
    "from brythonmagic import load_brython_stable\n",
    "load_brython_stable()"
   ]
  },
  {
   "cell_type": "code",
   "execution_count": 5,
   "metadata": {},
   "outputs": [
    {
     "name": "stderr",
     "output_type": "stream",
     "text": [
      "E:\\WinPython\\WPy64-3910\\python-3.9.1.amd64\\lib\\site-packages\\ipykernel\\ipkernel.py:283: DeprecationWarning: `should_run_async` will not call `transform_cell` automatically in the future. Please pass the result to `transformed_cell` argument and any exception that happen during thetransform in `preprocessing_exc_tuple` in IPython 7.17 and above.\n",
      "  and should_run_async(code)\n"
     ]
    },
    {
     "data": {
      "text/html": [
       "\n",
       "<script src=\"https://cdn.jsdelivr.net/npm/brython@3.9.0/brython.min.js\">\n",
       "</script>\n",
       "<script src=\"https://cdn.jsdelivr.net/npm/brython@3.9.0/brython_stdlib.js\">\n",
       "</script>\n",
       "<div onload=\"brython()\">\n",
       "<script type=\"text/python\">\n",
       "from browser import document\n",
       "from browser.widgets.dialog import InfoDialog\n",
       "\n",
       "def click(ev):\n",
       "    InfoDialog(\"Hello\", f\"Hello, {document['zone'].value} !\")\n",
       "\n",
       "# bind event 'click' on button to function echo\n",
       "document[\"echo\"].bind(\"click\", click)</script>\n",
       "<input id=\"zone\">\n",
       "<button id=\"echo\">click !</button>\n",
       "</div>\n",
       "</html>\n"
      ],
      "text/plain": [
       "<IPython.core.display.HTML object>"
      ]
     },
     "metadata": {},
     "output_type": "display_data"
    }
   ],
   "source": [
    "%%html\n",
    "\n",
    "<script src=\"https://cdn.jsdelivr.net/npm/brython@3.9.0/brython.min.js\">\n",
    "</script>\n",
    "<script src=\"https://cdn.jsdelivr.net/npm/brython@3.9.0/brython_stdlib.js\">\n",
    "</script>\n",
    "<div onload=\"brython()\">\n",
    "<script type=\"text/python\">\n",
    "from browser import document\n",
    "from browser.widgets.dialog import InfoDialog\n",
    "\n",
    "def click(ev):\n",
    "    InfoDialog(\"Hello\", f\"Hello, {document['zone'].value} !\")\n",
    "\n",
    "# bind event 'click' on button to function echo\n",
    "document[\"echo\"].bind(\"click\", click)</script>\n",
    "<input id=\"zone\">\n",
    "<button id=\"echo\">click !</button>\n",
    "</div>\n",
    "</html>"
   ]
  },
  {
   "cell_type": "code",
   "execution_count": null,
   "metadata": {},
   "outputs": [],
   "source": []
  }
 ],
 "metadata": {
  "kernelspec": {
   "display_name": "Python 3",
   "language": "python",
   "name": "python3"
  },
  "language_info": {
   "codemirror_mode": {
    "name": "ipython",
    "version": 3
   },
   "file_extension": ".py",
   "mimetype": "text/x-python",
   "name": "python",
   "nbconvert_exporter": "python",
   "pygments_lexer": "ipython3",
   "version": "3.9.1"
  }
 },
 "nbformat": 4,
 "nbformat_minor": 4
}
