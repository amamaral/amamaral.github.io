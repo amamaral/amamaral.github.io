{
 "cells": [
  {
   "cell_type": "markdown",
   "metadata": {},
   "source": [
    "title: \"Digital signal filters with limited resources\"\n",
    "author: \"Anderson M. Amaral\"\n",
    "date: \"03/12/2017\"\n",
    "tags: \"Electronics\"; \"arduino\""
   ]
  },
  {
   "cell_type": "markdown",
   "metadata": {},
   "source": [
    "# Introduction\n",
    "\n",
    "Signal filtering is an essential aspect in electronics circuits. It is useful to remove noise or to become sensitive to a signal at specified frequency ranges. While there are several analog approaches to filters using discrete components as capacitors, resistors and op-amps, digital filters are often more interesting due to its flexibility. A problem with digital filters is that often they require specialized hardware as DSP. In this post some aspects of digitized analog signals will be discussed, and also how these tools can be used and implemented within a generic board as an arduino.\n",
    "\n",
    "First some basics of the analog to digital conversion will be discussed, and later some specific filter scenarios will be analysed. Finally, some experiments with arduino will be performed and the filter response will be analysed.\n",
    "\n",
    "# Signal conversion - from analog to digital\n",
    "\n"
   ]
  },
  {
   "cell_type": "code",
   "execution_count": null,
   "metadata": {
    "collapsed": true
   },
   "outputs": [],
   "source": []
  }
 ],
 "metadata": {
  "kernelspec": {
   "display_name": "Python 3",
   "language": "python",
   "name": "python3"
  },
  "language_info": {
   "codemirror_mode": {
    "name": "ipython",
    "version": 3
   },
   "file_extension": ".py",
   "mimetype": "text/x-python",
   "name": "python",
   "nbconvert_exporter": "python",
   "pygments_lexer": "ipython3",
   "version": "3.6.1"
  }
 },
 "nbformat": 4,
 "nbformat_minor": 2
}
