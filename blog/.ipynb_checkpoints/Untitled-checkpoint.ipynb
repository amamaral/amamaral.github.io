{
 "cells": [
  {
   "cell_type": "code",
   "execution_count": 3,
   "metadata": {},
   "outputs": [
    {
     "data": {
      "application/javascript": [
       "MathJax.Hub.Config({\n",
       "    TeX: { equationNumbers: { autoNumber: \"all\" } }\n",
       "});\n"
      ],
      "text/plain": [
       "<IPython.core.display.Javascript object>"
      ]
     },
     "metadata": {},
     "output_type": "display_data"
    }
   ],
   "source": [
    "%%javascript\n",
    "MathJax.Hub.Config({\n",
    "    TeX: { equationNumbers: { autoNumber: \"all\" } }\n",
    "});"
   ]
  },
  {
   "cell_type": "markdown",
   "metadata": {},
   "source": [
    "\\begin{align}\n",
    "y(x) &= x \\\\\n",
    "g(x) &= \\sin x\n",
    "\\end{align}"
   ]
  },
  {
   "cell_type": "code",
   "execution_count": 1,
   "metadata": {},
   "outputs": [
    {
     "data": {
      "text/markdown": [
       "`A = \\left(15.02 \\pm 0.02\\right) 10^{-2}\\text{ m}`  \\begin{equation}\n",
       "A = \\left(15.02 \\pm 0.02\\right) 10^{-2}\\text{ m}\n",
       "\\end{equation}\n",
       "`\\hbar = \\frac{h}{2\\pi} = 1.054 \\cdot 10^{-34}\\text{ J/s}`  \\begin{equation}\n",
       "\\hbar = \\frac{h}{2\\pi} = 1.054 \\cdot 10^{-34}\\text{ J/s}\n",
       "\\end{equation}\n",
       "`y(x) = \\int_0^1 t\\, dt = \\left.\\frac{t^2}{2}\\right|_{t=0}^1`  \\begin{equation}\n",
       "y(x) = \\int_0^1 t\\, dt = \\left.\\frac{t^2}{2}\\right|_{t=0}^1\n",
       "\\end{equation}\n",
       "`\\sinh x= \\frac{e^x - e^{-x}}{2}`  \\begin{equation}\n",
       "\\sinh x= \\frac{e^x - e^{-x}}{2}\n",
       "\\end{equation}\n",
       "`e^x = \\sum_{i=0}^\\infty \\frac{x^i}{i!} = \\lim_{n \\rightarrow \\infty} \\left( 1 + \\frac{x}{n}  \\right)^n`  \\begin{equation}\n",
       "e^x = \\sum_{i=0}^\\infty \\frac{x^i}{i!} = \\lim_{n \\rightarrow \\infty} \\left( 1 + \\frac{x}{n}  \\right)^n\n",
       "\\end{equation}\n",
       "`f(a) = \\frac{1}{2\\pi i} \\oint \\frac{f(z)}{z-a} dz`  \\begin{equation}\n",
       "f(a) = \\frac{1}{2\\pi i} \\oint \\frac{f(z)}{z-a} dz\n",
       "\\end{equation}\n",
       "`\\nabla \\times \\vec{H} = \\mu_0 \\vec{J} + \\mu_0 \\epsilon_0 \\frac{\\partial\\vec{E}}{\\partial t}`  \\begin{equation}\n",
       "\\nabla \\times \\vec{H} = \\mu_0 \\vec{J} + \\mu_0 \\epsilon_0 \\frac{\\partial\\vec{E}}{\\partial t}\n",
       "\\end{equation}\n",
       "`\\ddot{x} + \\gamma \\dot{x} + \\omega^2 x = 0`  \\begin{equation}\n",
       "\\ddot{x} + \\gamma \\dot{x} + \\omega^2 x = 0\n",
       "\\end{equation}\n",
       "`w(z) = w_0 \\sqrt{1 + \\left(\\frac{z}{z_R}\\right)^2}`  \\begin{equation}\n",
       "w(z) = w_0 \\sqrt{1 + \\left(\\frac{z}{z_R}\\right)^2}\n",
       "\\end{equation}\n"
      ],
      "text/plain": [
       "<IPython.core.display.Markdown object>"
      ]
     },
     "metadata": {},
     "output_type": "display_data"
    }
   ],
   "source": [
    "from IPython import display\n",
    "display.display_javascript('')\n",
    "\n",
    "\n",
    "expressions = [r'A = \\left(15.02 \\pm 0.02\\right) 10^{-2}\\text{ m}',\n",
    "               r'\\hbar = \\frac{h}{2\\pi} = 1.054 \\cdot 10^{-34}\\text{ J/s}',\n",
    "               r'y(x) = \\int_0^1 t\\, dt = \\left.\\frac{t^2}{2}\\right|_{t=0}^1',\n",
    "               r'\\sinh x= \\frac{e^x - e^{-x}}{2}',\n",
    "               r'e^x = \\sum_{i=0}^\\infty \\frac{x^i}{i!} = \\lim_{n \\rightarrow \\infty} \\left( 1 + \\frac{x}{n}  \\right)^n',\n",
    "               r'f(a) = \\frac{1}{2\\pi i} \\oint \\frac{f(z)}{z-a} dz',\n",
    "               r'\\nabla \\times \\vec{H} = \\mu_0 \\vec{J} + \\mu_0 \\epsilon_0 \\frac{\\partial\\vec{E}}{\\partial t}',\n",
    "               r'\\ddot{x} + \\gamma \\dot{x} + \\omega^2 x = 0',\n",
    "               r'w(z) = w_0 \\sqrt{1 + \\left(\\frac{z}{z_R}\\right)^2}']\n",
    "\n",
    "out=''\n",
    "for i in expressions:\n",
    "    out += '`' + i + '`  \\\\begin{equation}\\n' + i + '\\n\\\\end{equation}\\n'\n",
    "\n",
    "display.display(display.Markdown(out))"
   ]
  },
  {
   "cell_type": "markdown",
   "metadata": {},
   "source": [
    "\\begin{align}\n",
    "y(x) &= x \\\\\n",
    "g(x) &= \\sin x\n",
    "\\end{align}"
   ]
  },
  {
   "cell_type": "code",
   "execution_count": null,
   "metadata": {},
   "outputs": [],
   "source": []
  }
 ],
 "metadata": {
  "kernelspec": {
   "display_name": "Python 3",
   "language": "python",
   "name": "python3"
  },
  "language_info": {
   "codemirror_mode": {
    "name": "ipython",
    "version": 3
   },
   "file_extension": ".py",
   "mimetype": "text/x-python",
   "name": "python",
   "nbconvert_exporter": "python",
   "pygments_lexer": "ipython3",
   "version": "3.9.1"
  }
 },
 "nbformat": 4,
 "nbformat_minor": 4
}
