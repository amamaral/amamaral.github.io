{
 "cells": [
  {
   "cell_type": "code",
   "execution_count": 1,
   "metadata": {
    "collapsed": false,
    "deletable": true,
    "editable": true,
    "slideshow": {
     "slide_type": "skip"
    }
   },
   "outputs": [
    {
     "name": "stdout",
     "output_type": "stream",
     "text": [
      "Populating the interactive namespace from numpy and matplotlib\n"
     ]
    }
   ],
   "source": [
    "%pylab inline\n",
    "\n",
    "# Some modifications for a better display of matplotlib\n",
    "\n",
    "pylab.rcParams['font.size'] = 16\n",
    "pylab.rcParams['figure.figsize'] = (10.0, 8.0)\n",
    "pylab.rcParams['savefig.dpi'] = 300"
   ]
  },
  {
   "cell_type": "code",
   "execution_count": 2,
   "metadata": {
    "collapsed": false,
    "deletable": true,
    "editable": true,
    "slideshow": {
     "slide_type": "skip"
    }
   },
   "outputs": [
    {
     "data": {
      "text/html": [
       "\n",
       "<!-- Autonumber displayed mathjax eqs. -->\n",
       "<script type=\"text/x-mathjax-config\">\n",
       "MathJax.Hub.Config({\n",
       "  TeX: { equationNumbers: { autoNumber: \"all\" } }\n",
       "});\n",
       "MathJax.Hub.Register.StartupHook(\"TeX Jax Ready\",function () {\n",
       "  MathJax.Hub.Insert(MathJax.InputJax.TeX.Definitions.macros,{\n",
       "    cancel: [\"Extension\",\"cancel\"],\n",
       "    bcancel: [\"Extension\",\"cancel\"],\n",
       "    xcancel: [\"Extension\",\"cancel\"],\n",
       "    cancelto: [\"Extension\",\"cancel\"]\n",
       "  });\n",
       "});\n",
       "</script>\n",
       "\n",
       "<style>\n",
       ".image_block {text-align:center;}\n",
       ".inner_image_block {\n",
       " display: inline-block;\n",
       "}\n",
       ".inner_image_block img {vertical-align:middle; height:175px;}\n",
       "\n",
       "#left {\n",
       "  text-align: center;\n",
       "  float: left;\n",
       "  width:50%;\n",
       "}\n",
       "\n",
       "#right {\n",
       "  float: right;\n",
       "  text-align: center;\n",
       "  width:50%;\n",
       "}\n",
       "</style>"
      ],
      "text/plain": [
       "<IPython.core.display.HTML object>"
      ]
     },
     "execution_count": 2,
     "metadata": {},
     "output_type": "execute_result"
    }
   ],
   "source": [
    "from IPython.display import HTML\n",
    "\n",
    "HTML(\"\"\"\n",
    "<!-- Autonumber displayed mathjax eqs. -->\n",
    "<script type=\"text/x-mathjax-config\">\n",
    "MathJax.Hub.Config({\n",
    "  TeX: { equationNumbers: { autoNumber: \"all\" } }\n",
    "});\n",
    "MathJax.Hub.Register.StartupHook(\"TeX Jax Ready\",function () {\n",
    "  MathJax.Hub.Insert(MathJax.InputJax.TeX.Definitions.macros,{\n",
    "    cancel: [\"Extension\",\"cancel\"],\n",
    "    bcancel: [\"Extension\",\"cancel\"],\n",
    "    xcancel: [\"Extension\",\"cancel\"],\n",
    "    cancelto: [\"Extension\",\"cancel\"]\n",
    "  });\n",
    "});\n",
    "</script>\n",
    "\n",
    "<style>\n",
    ".image_block {text-align:center;}\n",
    ".inner_image_block {\n",
    " display: inline-block;\n",
    "}\n",
    ".inner_image_block img {vertical-align:middle; height:175px;}\n",
    "\n",
    "#left {\n",
    "  text-align: center;\n",
    "  float: left;\n",
    "  width:50%;\n",
    "}\n",
    "\n",
    "#right {\n",
    "  float: right;\n",
    "  text-align: center;\n",
    "  width:50%;\n",
    "}\n",
    "</style>\"\"\")"
   ]
  },
  {
   "cell_type": "markdown",
   "metadata": {
    "deletable": true,
    "editable": true,
    "slideshow": {
     "slide_type": "notes"
    }
   },
   "source": [
    "** Configurações **\n",
    "\n",
    "<!-- Autonumber displayed mathjax eqs. -->\n",
    "<script type=\"text/x-mathjax-config\">\n",
    "MathJax.Hub.Config({\n",
    "  TeX: { equationNumbers: { autoNumber: \"all\" } }\n",
    "});\n",
    "MathJax.Hub.Register.StartupHook(\"TeX Jax Ready\",function () {\n",
    "  MathJax.Hub.Insert(MathJax.InputJax.TeX.Definitions.macros,{\n",
    "    cancel: [\"Extension\",\"cancel\"],\n",
    "    bcancel: [\"Extension\",\"cancel\"],\n",
    "    xcancel: [\"Extension\",\"cancel\"],\n",
    "    cancelto: [\"Extension\",\"cancel\"]\n",
    "  });\n",
    "});\n",
    "</script>\n",
    "\n",
    "<style>\n",
    ".image_block {text-align:center;}\n",
    ".inner_image_block {\n",
    " display: inline-block;\n",
    "}\n",
    ".inner_image_block img {vertical-align:middle; height:175px;}\n",
    "\n",
    "#left {\n",
    "  text-align: center;\n",
    "  float: left;\n",
    "  width:50%;\n",
    "}\n",
    "\n",
    "#right {\n",
    "  float: right;\n",
    "  text-align: center;\n",
    "  width:50%;\n",
    "}\n",
    "</style>"
   ]
  },
  {
   "cell_type": "markdown",
   "metadata": {
    "deletable": true,
    "editable": true,
    "slideshow": {
     "slide_type": "slide"
    }
   },
   "source": [
    "# Tópico 1 - Medições\n",
    "\n",
    "## Anderson M Amaral - [amamaral.github.io/teaching](https://amamaral.github.io/teaching)\n",
    "\n",
    "### Sejam todos bem vindos!\n",
    "\n",
    "<div class=\"image_block\">\n",
    " <div class=\"inner_image_block\">\n",
    "  <img src=\"https://upload.wikimedia.org/wikipedia/commons/thumb/6/60/Walton_with_Leicester_-_Peterborough_East_train_geograph-2791492-by-Ben-Brooksbank.jpg/800px-Walton_with_Leicester_-_Peterborough_East_train_geograph-2791492-by-Ben-Brooksbank.jpg\">\n",
    " </div>\n",
    "\n",
    " <div class=\"inner_image_block\">\n",
    "  <img src=\"https://upload.wikimedia.org/wikipedia/commons/thumb/0/0a/Elgin_pocket_watch.jpg/450px-Elgin_pocket_watch.jpg\">\n",
    " </div>\n",
    " \n",
    " <div class=\"inner_image_block\">\n",
    "  <img src=\"https://upload.wikimedia.org/wikipedia/commons/thumb/7/71/1885Benz.jpg/610px-1885Benz.jpg\">\n",
    " </div>\n",
    "</div>"
   ]
  },
  {
   "cell_type": "markdown",
   "metadata": {
    "deletable": true,
    "editable": true,
    "slideshow": {
     "slide_type": "slide"
    }
   },
   "source": [
    "### Prof. Anderson Amaral (sala 337,  website [amamaral.github.io](https://amamaral.github.io/))\n",
    "\n",
    "#### Engenharia de feixes de luz\n",
    "\n",
    "<div class=\"image_block\">\n",
    " <div class=\"inner_image_block\">\n",
    "  <img src=\"https://amamaral.github.io/papers//thumbnails/OL%20-%20Shaping%20Optical%20Beams%20with%20TC.jpg\">\n",
    " </div>\n",
    "\n",
    " <div class=\"inner_image_block\">\n",
    "  <img src=\"https://amamaral.github.io/papers//thumbnails/arXiv%20-%201402.3226v1.jpg\">\n",
    " </div>\n",
    " \n",
    " <div class=\"inner_image_block\">\n",
    "  <img src=\"https://amamaral.github.io/papers//thumbnails/OE%20-%20Characterization%20of%20TC%20and%20OAM%20of%20Shaped%20OV.jpg\">\n",
    " </div>\n",
    "</div>\n",
    "\n",
    "#### Óptica não linear (Lasers de altíssima potência)\n",
    "\n",
    "<div class=\"image_block\">\n",
    " <div class=\"inner_image_block\">\n",
    "  <img src=\"https://amamaral.github.io/papers//thumbnails/OE%20-%20SLIM.jpg\">\n",
    " </div>\n",
    "\n",
    " <div class=\"inner_image_block\">\n",
    "  <img src=\"https://amamaral.github.io/papers//thumbnails/OL%20-%20D4SigmaTIM.jpg\">\n",
    " </div>\n",
    "</div>"
   ]
  },
  {
   "cell_type": "markdown",
   "metadata": {
    "deletable": true,
    "editable": true,
    "slideshow": {
     "slide_type": "slide"
    }
   },
   "source": [
    "## Apresentação da disciplina\n",
    "\n",
    "- Informe inicial ([http://bit.ly/2lZGXXa](http://bit.ly/2lZGXXa))"
   ]
  },
  {
   "cell_type": "markdown",
   "metadata": {
    "deletable": true,
    "editable": true,
    "slideshow": {
     "slide_type": "fragment"
    }
   },
   "source": [
    "- [Lista de exercícios (Ver edmodo.com!)](edmodo.com)"
   ]
  },
  {
   "cell_type": "markdown",
   "metadata": {
    "deletable": true,
    "editable": true,
    "slideshow": {
     "slide_type": "fragment"
    }
   },
   "source": [
    "- [Edmodo](http://www.edmodo.com)\n",
    "\n",
    "| Turma | Cursos                                             | Código Edmodo |\n",
    "|-------|----------------------------------------------------|---------------|\n",
    "| P5+P6 | Eng. da Computação, Química e Física               | 2qvk6v        |\n",
    "| P7    | Eng. Biomédica, Geologia, Oceanografia, Matemática | qqypb9        |"
   ]
  },
  {
   "cell_type": "markdown",
   "metadata": {
    "deletable": true,
    "editable": true,
    "slideshow": {
     "slide_type": "slide"
    }
   },
   "source": [
    "### Referências bibliográficas\n",
    "\n",
    "- Livro-texto: D. Halliday, R. Resnick e J. Walker, **Fundamentos da Física**, Volume 1, 9 a edição, Ed. Livros\n",
    "Técnicos Científicos.\n",
    "\n",
    "- Livros para consulta:\n",
    "    - H. M. Nussenzveig, **Curso de Física Básica**, Volume 1, Ed. Edgar Blücher\n",
    "    - P. A. Tipler, **Física**, Volume 1, Ed. Guanabara Dois\n",
    "    - D. Halliday, R. Resnick e K. Krane, **Física**, Volume 1, Ed. Livros Técnicos Científicos\n",
    "    - R. P. Feynman, R. B. Leighton e M. Sands, **Feynman Lectures on Physics**, Addison-Wesley\n",
    "\n",
    "- Notas de aula online (DF-UFPE):\n",
    "    - **Leonardo Cabral: [sites.google.com/site/fisica120152dfufpe/](https://sites.google.com/site/fisica120152dfufpe/)**\n",
    "    - **Mauro Copelli: [sites.google.com/site/fisica1maurocopelli/](https://sites.google.com/site/fisica1maurocopelli/)**\n",
    "    - Anderson Amaral: [amamaral.github.io/teaching](https://amamaral.github.io/teaching)"
   ]
  },
  {
   "cell_type": "markdown",
   "metadata": {
    "deletable": true,
    "editable": true,
    "slideshow": {
     "slide_type": "slide"
    }
   },
   "source": [
    "### Sobre estas notas de aula\n",
    "\n",
    "**Atenção**: Estas notas de aula não estão livres de erros, de forma que o estudante que optar por acompanhar o conteudo por meio destas notas deve **sempre estar atento quanto a exatidão das informações apresentadas**. A notificação de qualquer informação incompleta/inexata será muito bem vinda.\n",
    "\n",
    "**Recomenda-se que os tópicos sejam acompanhados pelo livro texto conjuntamente com os livros para consulta**.\n",
    "\n",
    "Notas redigidas utilizando o [Jupyter Notebook](http://www.jupyter.org) em linguagem [Python](https://pt.wikipedia.org/wiki/Python). Quando presente, o botão <button class=\"code-btn\"><i class=\"fa fa-code\" style=\"font-size:1em; color:black\"></i></button> exibe o código fonte de algo relevante no slide. ** Os códigos são colocados como bônus para possíveis interessados, mas não são necessários para avançar na disciplina. ** Para execução dos códigos, recomenda-se [instalar o Jupyter](http://www.jupyter.org/install.html)."
   ]
  },
  {
   "cell_type": "markdown",
   "metadata": {
    "deletable": true,
    "editable": true,
    "slideshow": {
     "slide_type": "slide"
    }
   },
   "source": [
    "# Medições\n",
    "\n",
    "### Fundamentos da Física, Capítulo 1\n",
    "\n",
    "### Leituras complementares:\n",
    "\n",
    "- Nussenzveig - Capítulo 1\n",
    "- Feynman, Leighton, Sands - Capítulo 5"
   ]
  },
  {
   "cell_type": "markdown",
   "metadata": {
    "deletable": true,
    "editable": true,
    "slideshow": {
     "slide_type": "slide"
    }
   },
   "source": [
    "## Medições\n",
    "\n",
    "- <div class=\"fragment fade-up\">São cruciais para desvendar os padrões da natureza.</div>\n",
    "- <div class=\"fragment fade-up\">Levaram ao estabelecimento de referências internacionais (SI).</div>\n",
    "- <div class=\"fragment fade-up\">Permitem a comparação entre sistemas físicos similares.</div>\n",
    "\n",
    "<div class=\"fragment fade-up\">\n",
    "<div class=\"image_block\" id=\"left\">\n",
    "  <aside class=\"notes\">\n",
    "  A CGI of the international prototype kilogram (the inch ruler is for scale). The prototype is manufactured from a platinum–iridium alloy and is 39.17 mm in both diameter and height, its edges have a four-angle (22.5°, 45°, 67.5° and 79°) chamfer to minimize wear.        \n",
    "  </aside>\n",
    "\n",
    "  <ul>\n",
    "    <li>Quilograma padrão (1889-hoje)</li>\n",
    "  </ul>\n",
    "  <div class=\"inner_image_block\">\n",
    "    <img src=\"https://upload.wikimedia.org/wikipedia/commons/thumb/b/b5/CGKilogram.jpg/320px-CGKilogram.jpg\"/>\n",
    "  </div>\n",
    "</div>\n",
    "</div>\n",
    "\n",
    "<div class=\"fragment fade-up\">\n",
    "<div class=\"image_block\" id=\"right\">\n",
    "  <aside class=\"notes\">\n",
    "  Instead of the seconds pendulum method, the commission – whose members included Lagrange, Laplace, Monge and Condorcet – decided that the new measure should be equal to one ten-millionth of the distance from the North Pole to the Equator (the quadrant of the Earth's circumference), measured along the meridian passing through Paris.\n",
    "  </aside>\n",
    "\n",
    "  <ul>\n",
    "    <li>Protótipo do metro (1867-1960)</li>\n",
    "  </ul>\n",
    "  <div class=\"inner_image_block\">\n",
    "    <img src=\"https://upload.wikimedia.org/wikipedia/commons/thumb/b/bb/Platinum-Iridium_meter_bar.jpg/320px-Platinum-Iridium_meter_bar.jpg\"/>\n",
    "  </div>\n",
    "</div>\n",
    "</div>\n",
    "\n",
    "<div class=\"fragment fade-up\">\n",
    "<h2> Compreender, quantificar e melhorar as medições produz resultados importantes </h2>\n",
    "</div>"
   ]
  },
  {
   "cell_type": "markdown",
   "metadata": {
    "deletable": true,
    "editable": true,
    "slideshow": {
     "slide_type": "slide"
    }
   },
   "source": [
    "## Medições\n",
    "\n",
    "### Importância prática\n",
    "\n",
    "<div class=\"fragment fade-up\">\n",
    "<div class=\"image_block\" id=\"left\">\n",
    "  <aside class=\"notes\">\n",
    "    Precisão em distâncias pequenas -> Microeletrônica\n",
    "  </aside>\n",
    "\n",
    "  <ul>\n",
    "    <li>Medidas de distância</li>\n",
    "  </ul>\n",
    "  <div class=\"inner_image_block\">\n",
    "    <img src=\"https://upload.wikimedia.org/wikipedia/commons/4/45/Chloroplast_30000x_%283660656624%29.jpg\"/>\n",
    "    Cloroplastos (escala 500 nm)\n",
    "  </div>\n",
    "  <div class=\"inner_image_block\">\n",
    "    <img src=\"https://upload.wikimedia.org/wikipedia/commons/thumb/2/2b/Haswell_Chip.jpg/320px-Haswell_Chip.jpg\"/>\n",
    "    Processadores (dispositivos de 14 nm)\n",
    "  </div>\n",
    "</div>\n",
    "</div>\n",
    "\n",
    "<div class=\"fragment fade-up\">\n",
    "<div class=\"image_block\" id=\"right\">\n",
    "  <ul>\n",
    "    <li>Medidas de tempo</li>\n",
    "  </ul>\n",
    "  <div class=\"inner_image_block\">\n",
    "    <img src=\"http://scitechdaily.com/images/Strontium-Atomic-Clock-Sets-New-Record.jpg\"/>\n",
    "    Relógios atômicos\n",
    "  </div>\n",
    "  <div class=\"inner_image_block\">\n",
    "    <img src=\"https://upload.wikimedia.org/wikipedia/commons/thumb/f/f4/Navstar-2F.jpg/307px-Navstar-2F.jpg\"/>\n",
    "    GPS\n",
    "  </div>\n",
    "</div>\n",
    "</div>"
   ]
  },
  {
   "cell_type": "markdown",
   "metadata": {
    "deletable": true,
    "editable": true,
    "slideshow": {
     "slide_type": "slide"
    }
   },
   "source": [
    "## Medições\n",
    "\n",
    "### Importância prática\n",
    "\n",
    "<div class=\"fragment fade-up\">\n",
    "<div class=\"image_block\" id=\"left\">\n",
    "  <aside class=\"notes\">\n",
    "    Mars orbiter\n",
    "  </aside>\n",
    "\n",
    "  <ul>\n",
    "    <li>Um problema astronômico - Mars Orbiter</li>\n",
    "  </ul>\n",
    "  <div class=\"inner_image_block\">\n",
    "    <img src=\"http://nosoloingenieria.com/wp-content/uploads/2013/02/mars-climate-orbiter-trayectoria.jpg\"/>\n",
    "  </div>\n",
    "  <p>Prejuizo aproximado: US$ 330 milhões.</p>\n",
    "</div>\n",
    "</div>\n",
    "\n",
    "<div class=\"fragment fade-up\">\n",
    "<div class=\"image_block\" id=\"right\">\n",
    "  <ul>\n",
    "    <li>Controle de qualidade</li>\n",
    "  </ul>\n",
    "  <div class=\"inner_image_block\">\n",
    "    <img src=\"https://upload.wikimedia.org/wikipedia/commons/thumb/2/2f/M4_Inbusschraube_focusstacked.jpg/303px-M4_Inbusschraube_focusstacked.jpg\"/>\n",
    "  </div>\n",
    "  <aside class=\"notes\">Duas máquinas, A e B, custam R\\$ 10.000 cada e produzem 10.000 parafusos de um determinado tipo por mês. Se A produz 1% de parafusos defeituosos, enquanto B erra em 2% da produção, e cada parafuso custa R\\$ 0,15, em quanto tempo o custo das unidades defeituosas é suficiente para comprar uma nova máquina? Assuma prejuízo total nas unidades defeituosas.ps.: Ver livro do Slocum!</aside>\n",
    "  <p>Processos de produção mais precisos ou componentes com tolerâncias maiores minimizam as perdas de fabricação.\n",
    "  </p>\n",
    "</div>\n",
    "</div>"
   ]
  },
  {
   "cell_type": "markdown",
   "metadata": {
    "deletable": true,
    "editable": true,
    "slideshow": {
     "slide_type": "slide"
    }
   },
   "source": [
    "## Método científico (Nussenzveig Cap. 1)\n",
    "\n",
    "1. <div class=\"fragment\">Observação e experimentação.</div>\n",
    "2. <div class=\"fragment\">Abstração, indução.</div>\n",
    "3. <div class=\"fragment\">Formulação de leis e teorias físicas.</div>\n",
    "4. <div class=\"fragment\">Domínio de validade.</div>"
   ]
  },
  {
   "cell_type": "markdown",
   "metadata": {
    "deletable": true,
    "editable": true,
    "slideshow": {
     "slide_type": "slide"
    }
   },
   "source": [
    "## Unidades de medida e conversão de unidades\n",
    "\n",
    "### Sistema internacional de unidades (ou MKS)\n",
    "Conjunto de padrões de medida aceito internacionalmente. Algumas grandezas fundamentais do SI:\n",
    "- <span class=\"fragment\">Kg (massa)</span>\n",
    "- <span class=\"fragment\">m (distância)</span>\n",
    "- <span class=\"fragment\">s (tempo)</span>"
   ]
  },
  {
   "cell_type": "markdown",
   "metadata": {
    "deletable": true,
    "editable": true,
    "slideshow": {
     "slide_type": "fragment"
    }
   },
   "source": [
    "- Outras grandezas em mecânica são obtidas a partir das fundamentais acima.\n",
    "- Ex.: <span class=\"fragment\">N = kg $\\cdot$ m / s$^2$ </span>"
   ]
  },
  {
   "cell_type": "markdown",
   "metadata": {
    "deletable": true,
    "editable": true,
    "slideshow": {
     "slide_type": "slide"
    }
   },
   "source": [
    "### Conversão de unidades\n",
    "\n",
    "- Fator de conversão: $1 \\text{ h} = 60 \\text{ min}$, ou $\\frac{1 \\text{ h}}{60 \\text{ min}} = 1$\n",
    "- $1 \\text{ dia} = 24 \\text{ h}$, ou $\\frac{24 \\text{ h}}{1 \\text{ dia}} = 1$\n",
    "\n",
    "#### Exemplo:\n",
    "Ao longo de 2016, uma determinada mineradora brasileira extraiu 350 milhões de toneladas de minério de ferro. Em média, quantos Kg de minério foram extraidos a cada segundo?\n",
    "\n",
    "<span class=\"fragment\"> R.: <font color=\"red\">350</font> <font color=\"green\">milhões</font> de <font color=\"blue\">toneladas</font>/<font color=\"coral\">ano</font>, ou </span> <span class=\"fragment\"> <font color=\"red\"> $3,50 \\cdot 10^{2}$ </font> </span> <span class=\"fragment\"> <font color=\"green\">$\\cdot 10^6$</font> </span> <span class=\"fragment\"> <font color=\"blue\">$\\cdot 10^3$ Kg</font> </span> <span class=\"fragment\">/<font color=\"coral\">ano</font> </span> <span class=\"fragment\"> $=3,5 \\cdot 10^{11}$ Kg/ano </span>\n",
    "\n",
    "<span class=\"fragment\"> Quantos segundos por ano?</span> <span class=\"fragment\"> $1$ ano = $365$ dias </span> <span class=\"fragment\"> $\\frac{24\\text{ h}}{1\\text{ dia}}$ = </span> <span class=\"fragment\"> $8760$ h </span> <span class=\"fragment\"> $\\frac{60\\text{ min}}{1\\text{ h}} = 525.600$ min </span>\n",
    "\n",
    "<span class=\"fragment\"> $525.600$ min $\\frac{60\\text{ s}}{1\\text{ min}}$ = $31.536.000$ s </span> <span class=\"fragment\">, ou $3,2 \\cdot 10^7$ s</span>\n",
    "\n",
    "<span class=\"fragment\"> Então, $3,5 \\cdot 10^{11} \\frac{Kg}{ano}$ </span> <span class=\"fragment\"> $\\cdot \\frac{1 \\text{ ano}}{3,2 \\cdot 10^7 \\text{ s}}$ </span> <span class=\"fragment\"> $= 1,1 \\cdot 10^4 \\frac{Kg}{s}$"
   ]
  },
  {
   "cell_type": "markdown",
   "metadata": {
    "deletable": true,
    "editable": true,
    "slideshow": {
     "slide_type": "slide"
    }
   },
   "source": [
    "## Algarismos significativos\n",
    "\n",
    "- Nem todos os algarismos de um número possuem significado físico.\n",
    "- <div class=\"fragment\"><b>Especialmente relevante quando se usa calculadoras!</b></div>\n",
    "- <div class=\"fragment\"><b>Sempre arredondar</b> considerando o dado com menor número de algarismos significativos.</div>\n",
    "\n",
    "<div class=\"fragment\">\n",
    "<h4> Exemplo:</h4>\n",
    "Calcule o comprimento da diagonal $D$ de um quadrado cujos lados possuem comprimento $L = 2,0\\text{ m}$.\n",
    "</div>\n",
    "\n",
    "<span class=\"fragment\"> R.: Comprimento da diagonal: $D = L \\sqrt{2} = 2,8284271247461903$ m </span> <span class=\"fragment\"> <font color=\"red\"><b>(???)</b></font> </span>\n",
    "\n",
    "<span class=\"fragment\"> 2 algarismos significativos apenas! ('2' e '0') </span>\n",
    "\n",
    "<span class=\"fragment\"> $D = L \\sqrt{2} = 2,8$ m </span>"
   ]
  },
  {
   "cell_type": "markdown",
   "metadata": {
    "deletable": true,
    "editable": true,
    "slideshow": {
     "slide_type": "slide"
    }
   },
   "source": [
    "### Arredondamento\n",
    "\n",
    "- Se o próximo número é **menor que 5**, arredondar para baixo.\n",
    "- Se o próximo número é **maior ou igual que 5**, arredondar para cima.\n",
    "\n",
    "#### Exemplo:\n",
    "Arredondar $\\frac{3}{7}=0.42857\\dots$ para (a) 1, (b) 2, e (c) 3 algarismos significativos.\n",
    "\n",
    "<span class=\"fragment\">R.: (a) 0.4,</span><span class=\"fragment\"> (b) 0.43,</span><span class=\"fragment\"> (c) 0.429</span>"
   ]
  },
  {
   "cell_type": "markdown",
   "metadata": {
    "deletable": true,
    "editable": true,
    "slideshow": {
     "slide_type": "slide"
    }
   },
   "source": [
    "### Prefixos do SI\n",
    "\n",
    "- Notação científica: importante lidar com potências de 10\n",
    "\n",
    "| Fator  | Prefixo | Símbolo |   | Fator     | Prefixo | Símbolo |\n",
    "|--------|---------|---------|---|-----------|---------|---------|\n",
    "| 10$^1$ | deca    | da      |   | 10$^{-1}$ | deci    | d       |\n",
    "| 10$^2$ | hecto   | h       |   | 10$^{-2}$ | centi   | c       |\n",
    "| 10$^3$ | kilo    | K       |   | 10$^{-3}$ | mili    | m       |\n",
    "| 10$^6$ | mega    | M       |   | 10$^{-6}$ | micro   | μ       |\n",
    "| 10$^9$ | giga    | G       |   | 10$^{-9}$ | nano    | n       |\n",
    "| 10$^{12}$ | tera    | T       |   | 10$^{-12}$ | pico    | p       |\n",
    "| 10$^{15}$ | peta    | P       |   | 10$^{-15}$ | femto   | f       |\n",
    "| 10$^{18}$ | exa     | E       |   | 10$^{-18}$ | ato     | a       |\n",
    "| 10$^{21}$ | zeta    | Z       |   | 10$^{-21}$ | zepto   | z       |\n",
    "| 10$^{24}$ | yota    | Y       |   | 10$^{-24}$ | yocto   | y       |"
   ]
  },
  {
   "cell_type": "markdown",
   "metadata": {
    "deletable": true,
    "editable": true,
    "slideshow": {
     "slide_type": "slide"
    }
   },
   "source": [
    "## Propriedades de expoentes\n",
    "\n",
    "Dada uma base $a$, e expoentes $p$, e $q$,\n",
    "\n",
    "- $a^p a^q = a^{p+q}$\n",
    "- $\\frac{a^p}{a^q} = a^{p-q}$\n",
    "- $(a^p)^q = a^{pq}$"
   ]
  },
  {
   "cell_type": "markdown",
   "metadata": {
    "slideshow": {
     "slide_type": "slide"
    }
   },
   "source": [
    "# Tópico 2 - Movimento retilíneo"
   ]
  }
 ],
 "metadata": {
  "celltoolbar": "Slideshow",
  "kernelspec": {
   "display_name": "Python 3",
   "language": "python",
   "name": "python3"
  },
  "language_info": {
   "codemirror_mode": {
    "name": "ipython",
    "version": 3
   },
   "file_extension": ".py",
   "mimetype": "text/x-python",
   "name": "python",
   "nbconvert_exporter": "python",
   "pygments_lexer": "ipython3",
   "version": "3.5.2"
  },
  "name": "Bodega"
 },
 "nbformat": 4,
 "nbformat_minor": 2
}
